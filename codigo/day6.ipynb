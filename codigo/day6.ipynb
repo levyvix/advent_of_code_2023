{
 "cells": [
  {
   "cell_type": "code",
   "execution_count": 1,
   "metadata": {},
   "outputs": [],
   "source": [
    "import re"
   ]
  },
  {
   "cell_type": "code",
   "execution_count": 2,
   "metadata": {},
   "outputs": [],
   "source": [
    "example = \"\"\"Time:      7  15   30\n",
    "Distance:  9  40  200\"\"\""
   ]
  },
  {
   "cell_type": "code",
   "execution_count": 41,
   "metadata": {},
   "outputs": [],
   "source": [
    "import math\n",
    "\n",
    "\n",
    "class Races:\n",
    "    def __init__(self, text_input) -> None:\n",
    "        times_and_distances = text_input.split(\"\\n\")\n",
    "        self.times = list(map(int, times_and_distances[0].split()[1:]))\n",
    "        self.distances = list(map(int, times_and_distances[1].split()[1:]))\n",
    "\n",
    "    def calculate_my_wins(self):\n",
    "        races = []\n",
    "\n",
    "        for t, d in zip(self.times, self.distances):\n",
    "            my_wins = 0\n",
    "            for i in range(t):\n",
    "                # print(f'i: {i}')\n",
    "                # print(f'race time: {t}, record distance: {d}, my distance: {(t - i)*i }')\n",
    "\n",
    "                if (t - i) * i > d:\n",
    "                    my_wins += 1\n",
    "\n",
    "            races.append(my_wins)\n",
    "\n",
    "        return math.prod(races)\n"
   ]
  },
  {
   "cell_type": "code",
   "execution_count": 42,
   "metadata": {},
   "outputs": [
    {
     "data": {
      "text/plain": [
       "288"
      ]
     },
     "execution_count": 42,
     "metadata": {},
     "output_type": "execute_result"
    }
   ],
   "source": [
    "r = Races(example).calculate_my_wins()\n",
    "r"
   ]
  },
  {
   "cell_type": "code",
   "execution_count": 43,
   "metadata": {},
   "outputs": [
    {
     "data": {
      "text/plain": [
       "'Time:        48     87     69     81\\nDistance:   255   1288   1117   1623'"
      ]
     },
     "execution_count": 43,
     "metadata": {},
     "output_type": "execute_result"
    }
   ],
   "source": [
    "data = open(\"../data/day6.txt\").read()\n",
    "data\n"
   ]
  },
  {
   "cell_type": "code",
   "execution_count": 44,
   "metadata": {},
   "outputs": [
    {
     "data": {
      "text/plain": [
       "252000"
      ]
     },
     "execution_count": 44,
     "metadata": {},
     "output_type": "execute_result"
    }
   ],
   "source": [
    "r = Races(data).calculate_my_wins()\n",
    "r"
   ]
  },
  {
   "cell_type": "markdown",
   "metadata": {},
   "source": [
    "part two"
   ]
  },
  {
   "cell_type": "code",
   "execution_count": 63,
   "metadata": {},
   "outputs": [],
   "source": [
    "import math\n",
    "\n",
    "\n",
    "class Races:\n",
    "    def __init__(self, text_input) -> None:\n",
    "        times_and_distances = text_input.split(\"\\n\")\n",
    "        self.time = int(\"\".join(times_and_distances[0].split()[1:]))\n",
    "        self.distance = int(\"\".join(times_and_distances[1].split()[1:]))\n",
    "\n",
    "    def calculate_my_wins(self):\n",
    "        my_wins = 0\n",
    "        for i in range(self.time):\n",
    "            if (self.time - i) * i > self.distance:\n",
    "                my_wins += 1\n",
    "\n",
    "        return my_wins\n"
   ]
  },
  {
   "cell_type": "code",
   "execution_count": 65,
   "metadata": {},
   "outputs": [
    {
     "data": {
      "text/plain": [
       "36992486"
      ]
     },
     "execution_count": 65,
     "metadata": {},
     "output_type": "execute_result"
    }
   ],
   "source": [
    "Races(data).calculate_my_wins()"
   ]
  }
 ],
 "metadata": {
  "kernelspec": {
   "display_name": "linkedin",
   "language": "python",
   "name": "python3"
  },
  "language_info": {
   "codemirror_mode": {
    "name": "ipython",
    "version": 3
   },
   "file_extension": ".py",
   "mimetype": "text/x-python",
   "name": "python",
   "nbconvert_exporter": "python",
   "pygments_lexer": "ipython3",
   "version": "3.9.18"
  }
 },
 "nbformat": 4,
 "nbformat_minor": 2
}
