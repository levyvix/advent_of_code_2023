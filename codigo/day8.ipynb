{
 "cells": [
  {
   "cell_type": "code",
   "execution_count": 22,
   "metadata": {},
   "outputs": [],
   "source": [
    "import re\n",
    "import os\n",
    "from itertools import cycle"
   ]
  },
  {
   "cell_type": "code",
   "execution_count": 23,
   "metadata": {},
   "outputs": [],
   "source": [
    "data = open(os.path.join('..', 'data', 'day8.txt'), 'r').read()"
   ]
  },
  {
   "cell_type": "code",
   "execution_count": 40,
   "metadata": {},
   "outputs": [
    {
     "data": {
      "text/plain": [
       "'LRLRLRLLRRLRRLRRRLRRLRLLRRRLRRRLRRLLLLRRRLRLLRRLRRLRRLLLRRRLRRRLRRLRLRRLRLRLRLLRRRLRRRLLRRRLRRRLRRRLRLLLRRLRLRRRLRLRRRLLRRRLRLLRLRRRLRLRRRLRRLLRLRLRRLRLRLRRLRLRLRRRLRRLRLLRRLRRRLRRRLRRLRRRLRRLRLRRRLLRRRLLRRLRLRRRLRRRLLRRRLRLRRLRLRLRRLRLLRRLRLRLRRLRRRLRRRLRLRRLRRLLLRRRLLRLRRRLLRRRR\\n\\nNBN = (BKF, NNH)\\nNSM = (RFT, QQM)\\nBDR = (HRB, KQB)\\nLGM = (CQJ, XJQ)\\nCQL = (BDX, FBN)\\nSNH = (HXS, HCC)\\nBBL = (FMD, LVM)\\nGDF = (QQJ, VBM)\\nNVN = (QQR, XFD)\\nMMQ = (PHP, PHP)\\nTPH = (BNM, MXC)\\nNDR = (MSQ, RGL)\\nKRL = (RGM, RSP)\\nKJR = (MRD, TJC)\\nNBB = (JLM, JQQ)\\nAAA = (FHJ, QHN)\\nKFB = (BXG, RSN)\\nXFS = (QMB, KKF)\\nCDK = (HDD, JVJ)\\nGDB = (GQT, DSN)\\nRXL = (MJL, XFS)\\nFGM = (MBR, GFS)\\nDCM = (HDD, JVJ)\\nHLJ = (XPK, CTT)\\nPMS = (GHH, VQH)\\nKVP = (QDD, QDD)\\nHMS = (FJG, NKX)\\nLNF = (HSN, PVN)\\nHNN = (FVC, FMN)\\nNHK = (PQX, XXX)\\nGSL = (CVK, TCT)\\nMSV = (DFT, FVR)\\nRGF = (NVH, RJG)\\nXQT = (PVM, LDD)\\nQNX = (NTM, DXG)\\nMVX = (RBK, VSL)\\nQTF = (QKN, LQK)\\nNFV = (MVG, KCT)\\nMHL = (SVN, RHM)\\nVSL = (BLJ, XMX)\\nMJL = (KKF, QMB)\\nFMB = (RHM, SVN)\\nDTT = (JRG, HBQ)\\nRSV = (JLP, QKR)\\nQMV = (HNN, TND)\\nGXF = (JQQ, JLM)\\nKSQ = (VKQ, STJ)\\nMDL = (LNQ, DQF)\\nDQF = (HLJ, VVN)\\nFDD = (DDM, GMM)\\nRDD = (GHR, TDJ)\\nLKK = (VRD, SGJ)\\nBRF = (VFV, LNH)\\nMRM = (GSQ, JNJ)\\nJFQ = (BDC, KSN)\\nTHT = (PHL, DCX)\\nFGL = (RSV, TRX)\\nRMT = (HHR, BKV)\\nSHL = (LHT, FBK)\\nRVN = (MPF, TGD)\\nPMD = (MFL, DMP)\\nJVN = (CMC, BJC)\\nFVC = (LNP, LPX)\\nBDC = (PRS, PRS)\\nBCT = (LDD, PVM)\\nPBQ = (QDX, BVT)\\nXLB = (FBF, THP)\\nHQG = (RXL, GKK)\\nQXK = (BNJ, GSM)\\nBRG = (PVQ, NKP)\\nTCC = (BFV, GHQ)\\nTTC = (VLV, CBB)\\nQJV = (QGG, FTF)\\nBJC = (GCQ, LJV)\\nBNS = (SCX, LGL)\\nLQK = (XRL, MSB)\\nFBK = (CSQ, RKK)\\nTND = (FMN, FVC)\\nDHX = (TKX, DGS)\\nGKC = (JKS, CPT)\\nVHQ = (DQF, LNQ)\\nVKN = (BDC, BDC)\\nKQG = (FHJ, QHN)\\nKBG = (HVS, HFS)\\nDVA = (XXG, PRR)\\nRTP = (RCJ, MVV)\\nKMJ = (BFV, GHQ)\\nFJG = (FSJ, MRM)\\nKGH = (NVN, JJD)\\nTRC = (KLM, DCJ)\\nPNT = (XHX, KGH)\\nPVM = (VVB, KFL)\\nJQQ = (JFX, VBP)\\nQTL = (MBK, DSL)\\nNPC = (NBN, BVS)\\nXDZ = (PRR, XXG)\\nJTR = (LTL, BBT)\\nLPX = (NXJ, BPT)\\nBGT = (FHK, TBC)\\nFFK = (NML, DPL)\\nGRR = (RLM, GJD)\\nQBR = (BNM, MXC)\\nQFF = (HMS, DHJ)\\nGTT = (MSV, LQD)\\nSTH = (GLX, RXQ)\\nDCX = (BCT, XQT)\\nKNT = (QQH, FNT)\\nFPF = (LSJ, QNX)\\nVDB = (TTM, GNJ)\\nGDQ = (VJJ, BTV)\\nXPK = (PFB, SRN)\\nCXC = (LMM, JXT)\\nMDJ = (MDL, VHQ)\\nNFL = (HSN, PVN)\\nKMT = (LFT, SNP)\\nKCT = (HKF, LKK)\\nTJC = (THT, FPJ)\\nFKC = (PLJ, FDS)\\nHGJ = (BKV, HHR)\\nQMN = (QQN, HVG)\\nHBT = (CSV, JCB)\\nQHN = (TGV, VFR)\\nQGG = (TCB, FQH)\\nNMT = (RFS, MDB)\\nBGF = (NFL, LNF)\\nTXJ = (NPC, FGC)\\nRQB = (XNP, PQV)\\nFHG = (TND, HNN)\\nDRL = (DCL, JRT)\\nCSN = (CVH, BRL)\\nMRK = (CRS, HPQ)\\nXPM = (GGS, GGS)\\nCTT = (PFB, SRN)\\nSMX = (PQB, CRF)\\nNVH = (BGF, CPK)\\nCGB = (GLX, RXQ)\\nHJV = (RVN, FLF)\\nTSM = (CRF, PQB)\\nHPQ = (STB, MCK)\\nJMD = (RMT, HGJ)\\nKPC = (JHF, JNV)\\nVLV = (MJX, MCQ)\\nRRK = (XGP, LHL)\\nMGH = (BVG, GTT)\\nXFD = (RKT, TCN)\\nJVB = (FQJ, MGH)\\nVNX = (KGH, XHX)\\nFNT = (NQJ, XFP)\\nXGP = (DCM, CDK)\\nGSR = (GRR, FPH)\\nNQJ = (QJG, VCS)\\nRJC = (CVH, BRL)\\nCLG = (DSB, JLJ)\\nFHK = (HJV, TNX)\\nXDD = (DPL, NML)\\nLKQ = (PQN, VTS)\\nVBM = (LVN, FHF)\\nRFT = (KFC, BJN)\\nJFT = (BNS, HNX)\\nJKS = (GCT, XJV)\\nLHL = (DCM, CDK)\\nRMG = (QDS, QMR)\\nVXA = (BRF, XKN)\\nSCT = (BJF, TDL)\\nHFG = (QTF, HMG)\\nJQL = (JVN, HXT)\\nFTB = (PJS, VVS)\\nDVG = (SSD, PCL)\\nJRT = (LDG, JFT)\\nRXK = (NNX, FFX)\\nDDM = (LQV, MRK)\\nDPG = (XDD, FFK)\\nGCQ = (CQL, PSV)\\nGQT = (NKS, VDX)\\nLMM = (BFQ, VSM)\\nPQF = (VDB, GXH)\\nGFD = (GCM, LSF)\\nKGC = (STH, CGB)\\nKDT = (SBV, LDX)\\nJHS = (BLN, QTL)\\nVBP = (CVT, PBQ)\\nPDL = (JPV, PRF)\\nHRV = (BXG, RSN)\\nXKN = (LNH, VFV)\\nFLT = (SVV, RBM)\\nTCN = (RBD, BTB)\\nBVG = (LQD, MSV)\\nLGL = (SGS, CDR)\\nDVX = (PFH, VNJ)\\nTRD = (SLB, NBR)\\nVFR = (KJR, PVS)\\nRFG = (BQF, BTK)\\nGGS = (FGD, FGD)\\nXPF = (KDD, RLC)\\nTGD = (XPM, XXC)\\nLKC = (FJH, CHT)\\nJMT = (LSL, PTH)\\nQQM = (KFC, BJN)\\nHBQ = (SRK, XBQ)\\nXVH = (VKN, JFQ)\\nBNH = (MLT, HNC)\\nDPL = (TJR, LRH)\\nKQB = (VNN, SCT)\\nLJV = (PSV, CQL)\\nJPV = (HQN, FKC)\\nHNC = (SHM, KNT)\\nFNJ = (XBJ, GDF)\\nNXG = (JNV, JHF)\\nPFK = (GTF, VLD)\\nFRP = (LSJ, QNX)\\nSDH = (STJ, VKQ)\\nRBK = (BLJ, XMX)\\nVJJ = (JMT, CSK)\\nFDX = (CXL, QTB)\\nFLF = (MPF, TGD)\\nFPH = (RLM, GJD)\\nTNX = (RVN, FLF)\\nPCL = (KVV, KGT)\\nTDX = (FBG, BJT)\\nHFD = (PHP, FRZ)\\nSVN = (TLT, BCC)\\nPFS = (XBV, BRG)\\nCSK = (LSL, PTH)\\nMQX = (LFJ, MNX)\\nPHP = (BXQ, RTP)\\nFVM = (FTF, QGG)\\nMNX = (HRV, KFB)\\nLNN = (BNJ, GSM)\\nXMX = (BLT, HPL)\\nXFP = (VCS, QJG)\\nKKF = (SMQ, NTS)\\nMRD = (FPJ, THT)\\nQDD = (KBG, KQF)\\nRTC = (CVK, TCT)\\nXXC = (GGS, CDH)\\nGJF = (BDR, FCM)\\nHRM = (NPQ, HQM)\\nLGC = (VLD, GTF)\\nFHJ = (VFR, TGV)\\nFXN = (RTK, RTK)\\nPSL = (MNX, LFJ)\\nSXR = (GLG, NPT)\\nBVS = (BKF, NNH)\\nJHA = (BXQ, RTP)\\nVFV = (SHB, KVC)\\nLQG = (SNH, JPD)\\nXQL = (SNP, LFT)\\nTDP = (LGM, TQV)\\nLTL = (KGC, DMT)\\nHML = (RBM, SVV)\\nTKX = (NKV, GFD)\\nBCM = (QHH, CNP)\\nRFD = (KQS, CMN)\\nMKS = (RJC, CSN)\\nLHZ = (KQF, KBG)\\nVSH = (HQG, TJF)\\nDPP = (VNH, FDX)\\nHRB = (SCT, VNN)\\nMRF = (QQM, RFT)\\nTGV = (PVS, KJR)\\nPFB = (DKS, DPP)\\nTCB = (QPG, PQF)\\nSXH = (DHB, DHM)\\nGHJ = (RSV, TRX)\\nLSF = (HDR, DJJ)\\nVVB = (GHJ, FGL)\\nJFX = (CVT, PBQ)\\nPXJ = (NXG, KPC)\\nSVT = (MMQ, MMQ)\\nVNH = (CXL, QTB)\\nMHN = (KDD, RLC)\\nFTF = (TCB, FQH)\\nDSL = (QMN, JTP)\\nFLL = (RTH, PVT)\\nQQJ = (FHF, LVN)\\nHSN = (QMV, FHG)\\nBXP = (DHN, FMJ)\\nKDD = (CNS, MLM)\\nJVJ = (HVB, PKT)\\nHQN = (FDS, PLJ)\\nKQS = (NQB, JQL)\\nMVG = (HKF, LKK)\\nKCK = (CSJ, FNJ)\\nCVK = (NFV, VMQ)\\nNKX = (FSJ, MRM)\\nHSJ = (RFG, FML)\\nRBD = (BMH, KRL)\\nMFL = (JNP, HBT)\\nSDJ = (PQN, VTS)\\nCDR = (QJV, FVM)\\nGPG = (KGL, BGT)\\nVNN = (BJF, TDL)\\nVLB = (JCQ, TKJ)\\nDXG = (BCM, GMS)\\nFKB = (PLS, RGF)\\nSVV = (GDQ, QVS)\\nVSV = (VKN, JFQ)\\nPRR = (MVX, FHN)\\nPTH = (PXN, GJF)\\nKFC = (LGC, PFK)\\nDMP = (HBT, JNP)\\nKGT = (GSJ, NHK)\\nHXX = (GKC, LXQ)\\nBDL = (NRQ, DHX)\\nSLB = (SCC, SHL)\\nNBR = (SCC, SHL)\\nGHR = (NBB, GXF)\\nPHT = (HDK, KRF)\\nGMM = (LQV, MRK)\\nMVV = (FPF, FRP)\\nQCJ = (FMJ, DHN)\\nLSL = (GJF, PXN)\\nGCT = (PLG, TVL)\\nFGD = (XXG, PRR)\\nDLD = (FKH, NDR)\\nVRD = (MQX, PSL)\\nNDJ = (TRC, BSB)\\nLCD = (JHN, MGP)\\nSRN = (DPP, DKS)\\nFRZ = (RTP, BXQ)\\nGSM = (FJD, KCK)\\nDCL = (LDG, JFT)\\nLVM = (CLV, FDD)\\nBTD = (PFS, HDG)\\nHVB = (SVT, SVT)\\nLDR = (HJK, PDJ)\\nTQV = (CQJ, XJQ)\\nJFZ = (SXH, KGM)\\nPLJ = (HXX, JCR)\\nJRX = (JMD, GHF)\\nDJJ = (LQG, KFD)\\nRPS = (RQB, GSH)\\nQPG = (GXH, VDB)\\nGJD = (FKB, STD)\\nSNK = (LGM, TQV)\\nLRR = (VGQ, HKJ)\\nMXH = (GNB, FLL)\\nMBR = (DTN, XLB)\\nXJX = (RTK, FSV)\\nBFV = (FXN, FXN)\\nXRL = (LCP, HSJ)\\nFDS = (HXX, JCR)\\nHHR = (TCC, KMJ)\\nGHF = (RMT, HGJ)\\nXLJ = (HMG, QTF)\\nJLM = (JFX, VBP)\\nGNJ = (DMQ, BTD)\\nKLM = (LJS, DPG)\\nJNV = (NVM, GCL)\\nQQN = (BMN, DSK)\\nFJS = (NNX, FFX)\\nGLG = (CLG, GTX)\\nZZZ = (QHN, FHJ)\\nTRX = (QKR, JLP)\\nQPP = (DTQ, JKV)\\nXXX = (XPQ, SKF)\\nDHB = (HXD, RPP)\\nXXS = (QMR, QDS)\\nPLS = (NVH, RJG)\\nCRS = (STB, STB)\\nSKK = (VLV, CBB)\\nFHF = (FJS, RXK)\\nNFK = (SNM, RDD)\\nGXX = (LKC, XPS)\\nGLX = (HCT, DFL)\\nLNP = (BPT, NXJ)\\nRLX = (JRG, HBQ)\\nMSQ = (TRD, MTP)\\nKXN = (RPS, KVD)\\nJCB = (TPH, QBR)\\nJLJ = (MMG, JRX)\\nFHN = (RBK, VSL)\\nDSB = (MMG, JRX)\\nBTK = (RKQ, LFK)\\nVCS = (JDB, BRX)\\nSKF = (GRG, DPR)\\nPQN = (DFX, NXN)\\nMPF = (XPM, XPM)\\nCDH = (FGD, XDZ)\\nKRF = (SJJ, SXR)\\nHNX = (LGL, SCX)\\nTGH = (DTT, RLX)\\nFPJ = (PHL, DCX)\\nKFD = (JPD, SNH)\\nFJH = (GLQ, RFD)\\nLQV = (CRS, HPQ)\\nRXQ = (HCT, DFL)\\nTKJ = (NHV, FGM)\\nSCX = (CDR, SGS)\\nJLP = (KXN, CMX)\\nTJV = (VHQ, MDL)\\nDSK = (PDL, GVC)\\nQHH = (HLP, NBV)\\nNVM = (JDM, NFK)\\nNNH = (QPP, XSG)\\nVGQ = (PQT, PMS)\\nCNS = (XMQ, PMD)\\nLFJ = (KFB, HRV)\\nFMJ = (QFM, PXJ)\\nNRQ = (TKX, DGS)\\nHDD = (HVB, PKT)\\nJFN = (TKJ, JCQ)\\nXPS = (CHT, FJH)\\nSMQ = (KDT, BDD)\\nJQK = (HQM, NPQ)\\nRKQ = (GDB, GMN)\\nFCM = (KQB, HRB)\\nRLL = (BLN, QTL)\\nBLN = (MBK, DSL)\\nLJS = (XDD, FFK)\\nBVT = (XKT, JTM)\\nGNB = (RTH, PVT)\\nRFX = (BSB, TRC)\\nFVR = (MDJ, TJV)\\nSJJ = (NPT, GLG)\\nRKT = (RBD, BTB)\\nLVN = (RXK, FJS)\\nQDX = (XKT, JTM)\\nHVS = (HML, FLT)\\nQTB = (MRF, NSM)\\nXXG = (FHN, MVX)\\nBKF = (QPP, XSG)\\nCSQ = (KCP, TGH)\\nJVC = (DLD, BHF)\\nSCS = (MSL, FTB)\\nLDX = (PHT, KKM)\\nTTM = (BTD, DMQ)\\nVTS = (NXN, DFX)\\nPHL = (BCT, XQT)\\nRGM = (MQS, DCD)\\nFJT = (FGC, NPC)\\nDCD = (SCS, FKS)\\nBHF = (NDR, FKH)\\nFGC = (BVS, NBN)\\nHMG = (LQK, QKN)\\nKFV = (RLF, TKN)\\nRPP = (GSR, VVM)\\nLFK = (GDB, GMN)\\nQKR = (CMX, KXN)\\nNNX = (DGH, DCB)\\nKVC = (LKQ, SDJ)\\nMSB = (LCP, HSJ)\\nXGN = (HQG, TJF)\\nCMX = (KVD, RPS)\\nDFL = (FJT, TXJ)\\nQQH = (NQJ, XFP)\\nHCT = (TXJ, FJT)\\nHKJ = (PMS, PQT)\\nLDG = (HNX, BNS)\\nRTH = (HKG, LCD)\\nNXJ = (RFX, NDJ)\\nRBM = (GDQ, QVS)\\nRKK = (TGH, KCP)\\nMQS = (FKS, SCS)\\nVVN = (XPK, CTT)\\nXSG = (DTQ, JKV)\\nTKN = (CKJ, CKH)\\nCHT = (GLQ, RFD)\\nPXN = (BDR, FCM)\\nLCP = (FML, RFG)\\nPFH = (JTR, HBN)\\nTLT = (STM, JVB)\\nGSP = (XGN, VSH)\\nMMG = (GHF, JMD)\\nCVT = (BVT, QDX)\\nHXS = (CXC, MDR)\\nPVN = (FHG, QMV)\\nPVS = (MRD, TJC)\\nXKT = (KFV, PPN)\\nRFS = (LDR, KJK)\\nNKV = (GCM, LSF)\\nXQX = (BHF, DLD)\\nVDX = (HCQ, MXH)\\nDGS = (NKV, GFD)\\nKGM = (DHB, DHM)\\nGFC = (PCL, SSD)\\nPDJ = (FMB, MHL)\\nGSJ = (XXX, PQX)\\nSTM = (MGH, FQJ)\\nMCK = (KVP, JGG)\\nKGF = (BGT, KGL)\\nPRF = (HQN, FKC)\\nGKK = (MJL, XFS)\\nHDG = (XBV, BRG)\\nXJQ = (BXP, QCJ)\\nJTP = (QQN, HVG)\\nDFX = (JFN, VLB)\\nFBN = (XVH, VSV)\\nCMC = (GCQ, LJV)\\nBQF = (LFK, RKQ)\\nCKH = (DRB, XLQ)\\nXJV = (PLG, TVL)\\nVQH = (HSX, BBL)\\nJJD = (XFD, QQR)\\nGVC = (JPV, PRF)\\nKFL = (GHJ, FGL)\\nSHB = (LKQ, SDJ)\\nNPT = (CLG, GTX)\\nXNP = (VNX, PNT)\\nLDD = (VVB, KFL)\\nGFS = (DTN, XLB)\\nMDR = (LMM, JXT)\\nSSD = (KVV, KGT)\\nTHP = (MHN, XPF)\\nBTB = (BMH, KRL)\\nPJS = (DVG, GFC)\\nLHT = (RKK, CSQ)\\nQVH = (KGM, SXH)\\nSRK = (DKF, JRP)\\nGTX = (JLJ, DSB)\\nBRL = (SDH, KSQ)\\nCXL = (MRF, NSM)\\nCSJ = (GDF, XBJ)\\nTBC = (HJV, TNX)\\nTVL = (MPQ, TDX)\\nSTD = (PLS, RGF)\\nCSV = (QBR, TPH)\\nGCL = (NFK, JDM)\\nFMD = (FDD, CLV)\\nTDL = (SNK, TDP)\\nFQM = (QVH, JFZ)\\nRNK = (JVC, XQX)\\nKSN = (PRS, FQM)\\nMPQ = (FBG, FBG)\\nHVG = (BMN, DSK)\\nRJG = (BGF, CPK)\\nGTF = (RLL, JHS)\\nSKM = (MMQ, HFD)\\nDFT = (TJV, MDJ)\\nCBB = (MCQ, MJX)\\nFKH = (RGL, MSQ)\\nHKF = (SGJ, VRD)\\nQJG = (BRX, JDB)\\nLNQ = (VVN, HLJ)\\nLRH = (XXS, RMG)\\nDGH = (KGF, GPG)\\nGMS = (CNP, QHH)\\nGMN = (DSN, GQT)\\nDHJ = (NKX, FJG)\\nDTN = (FBF, THP)\\nKCP = (RLX, DTT)\\nSLN = (XGP, LHL)\\nPSV = (FBN, BDX)\\nXBJ = (VBM, QQJ)\\nXMQ = (MFL, DMP)\\nKVV = (GSJ, NHK)\\nBNJ = (FJD, KCK)\\nHDK = (SJJ, SXR)\\nVMQ = (MVG, KCT)\\nMGP = (FHV, DVX)\\nBLT = (NMM, BNH)\\nDCB = (GPG, KGF)\\nBMN = (PDL, GVC)\\nDKS = (FDX, VNH)\\nCRF = (XLJ, HFG)\\nBDD = (LDX, SBV)\\nXBQ = (DKF, JRP)\\nCNP = (HLP, NBV)\\nDCJ = (DPG, LJS)\\nQMR = (SKK, TTC)\\nLFT = (NVV, SSH)\\nRVQ = (MDB, RFS)\\nHVN = (CSN, RJC)\\nCTQ = (GSL, RTC)\\nMJX = (QFF, JVS)\\nKKM = (KRF, HDK)\\nRGL = (MTP, TRD)\\nHSX = (LVM, FMD)\\nFMN = (LNP, LPX)\\nTJR = (RMG, XXS)\\nJCQ = (NHV, FGM)\\nQKN = (MSB, XRL)\\nMDB = (KJK, LDR)\\nJNP = (JCB, CSV)\\nBJT = (KQG, ZZZ)\\nRLF = (CKJ, CKH)\\nJVS = (DHJ, HMS)\\nNTM = (GMS, BCM)\\nBMH = (RGM, RSP)\\nHDR = (LQG, KFD)\\nGSQ = (TLQ, CTQ)\\nNKS = (HCQ, MXH)\\nFBG = (KQG, KQG)\\nQMB = (SMQ, NTS)\\nKJK = (PDJ, HJK)\\nFHV = (VNJ, PFH)\\nJDM = (SNM, RDD)\\nSSH = (RRK, SLN)\\nNVV = (SLN, RRK)\\nSGJ = (PSL, MQX)\\nSHM = (QQH, FNT)\\nJTM = (KFV, PPN)\\nDKF = (MRC, HTG)\\nMSL = (PJS, VVS)\\nBSB = (DCJ, KLM)\\nPLG = (MPQ, MPQ)\\nFKS = (FTB, MSL)\\nGXH = (GNJ, TTM)\\nNML = (TJR, LRH)\\nSBV = (PHT, KKM)\\nBRX = (XQJ, RNK)\\nFML = (BTK, BQF)\\nGCM = (DJJ, HDR)\\nXBV = (NKP, PVQ)\\nJHF = (GCL, NVM)\\nBFQ = (JQK, HRM)\\nNPQ = (TDR, GSP)\\nRSP = (DCD, MQS)\\nDPR = (RVQ, NMT)\\nDMT = (CGB, STH)\\nSNM = (TDJ, GHR)\\nXLQ = (MKS, HVN)\\nGRG = (RVQ, NMT)\\nJHN = (FHV, DVX)\\nPKT = (SVT, SKM)\\nKVD = (RQB, GSH)\\nTCT = (NFV, VMQ)\\nRTK = (QGP, QGP)\\nFQH = (PQF, QPG)\\nHXD = (VVM, GSR)\\nPPN = (RLF, TKN)\\nMTP = (NBR, SLB)\\nJXT = (BFQ, VSM)\\nPQV = (VNX, PNT)\\nTJF = (RXL, GKK)\\nNMM = (MLT, HNC)\\nTDJ = (GXF, NBB)\\nQFM = (NXG, KPC)\\nMXC = (BNK, BDL)\\nXPQ = (GRG, DPR)\\nVVM = (GRR, FPH)\\nBXG = (GXX, HHG)\\nPVT = (LCD, HKG)\\nLSJ = (NTM, DXG)\\nBJF = (SNK, TDP)\\nVNJ = (HBN, JTR)\\nTDR = (XGN, VSH)\\nNXN = (VLB, JFN)\\nNKP = (XQL, KMT)\\nMCQ = (QFF, JVS)\\nHJK = (MHL, FMB)\\nBLJ = (HPL, BLT)\\nSNP = (NVV, SSH)\\nRCJ = (FPF, FRP)\\nXQJ = (JVC, XQX)\\nCPT = (GCT, XJV)\\nBCC = (JVB, STM)\\nFSV = (QGP, TNZ)\\nCMN = (JQL, NQB)\\nRLM = (STD, FKB)\\nSTB = (KVP, KVP)\\nJDB = (RNK, XQJ)\\nVSM = (JQK, HRM)\\nJPD = (HXS, HCC)\\nBTV = (JMT, CSK)\\nDHN = (PXJ, QFM)\\nCQJ = (BXP, QCJ)\\nMLT = (KNT, SHM)\\nDMQ = (PFS, HDG)\\nMBK = (QMN, JTP)\\nNTS = (KDT, BDD)\\nSCC = (FBK, LHT)\\nHHG = (LKC, XPS)\\nPRS = (QVH, QVH)\\nTLQ = (RTC, GSL)\\nBJN = (LGC, PFK)\\nFBF = (MHN, XPF)\\nVKQ = (LRR, LXJ)\\nPQX = (XPQ, SKF)\\nTNZ = (XKN, BRF)\\nFJD = (FNJ, CSJ)\\nJNJ = (CTQ, TLQ)\\nHTG = (LNN, QXK)\\nGHH = (HSX, BBL)\\nBDX = (XVH, VSV)\\nNBV = (TSM, SMX)\\nLNH = (SHB, KVC)\\nGLQ = (CMN, KQS)\\nCKJ = (XLQ, DRB)\\nHFS = (HML, FLT)\\nSTJ = (LXJ, LRR)\\nQVS = (VJJ, BTV)\\nHCQ = (GNB, FLL)\\nRHM = (TLT, BCC)\\nMRC = (LNN, QXK)\\nDSN = (VDX, NKS)\\nHCC = (CXC, MDR)\\nFFX = (DCB, DGH)\\nHPL = (NMM, BNH)\\nDHM = (RPP, HXD)\\nLXQ = (CPT, JKS)\\nRLC = (MLM, CNS)\\nBBT = (DMT, KGC)\\nPQT = (VQH, GHH)\\nBKV = (TCC, KMJ)\\nKGL = (FHK, TBC)\\nVLD = (JHS, RLL)\\nDTQ = (MMK, DRL)\\nHKG = (MGP, JHN)\\nJKV = (DRL, MMK)\\nCVH = (KSQ, SDH)\\nQQR = (RKT, TCN)\\nJGG = (QDD, LHZ)\\nFSJ = (GSQ, JNJ)\\nLXJ = (VGQ, HKJ)\\nBPT = (NDJ, RFX)\\nQGP = (BRF, XKN)\\nJCR = (LXQ, GKC)\\nDRB = (MKS, HVN)\\nLQD = (DFT, FVR)\\nVVS = (GFC, DVG)\\nFQJ = (BVG, GTT)\\nXHX = (JJD, NVN)\\nMLM = (XMQ, PMD)\\nQDS = (TTC, SKK)\\nNMA = (KGM, SXH)\\nHBN = (BBT, LTL)\\nKQF = (HFS, HVS)\\nPVQ = (XQL, KMT)\\nCLV = (DDM, GMM)\\nBXQ = (RCJ, MVV)\\nGHQ = (FXN, XJX)\\nRSN = (HHG, GXX)\\nSGS = (QJV, FVM)\\nPQB = (XLJ, HFG)\\nMMK = (DCL, JRT)\\nJRG = (SRK, XBQ)\\nHXT = (BJC, CMC)\\nGSH = (XNP, PQV)\\nBNK = (DHX, NRQ)\\nHQM = (GSP, TDR)\\nBNM = (BNK, BDL)\\nCPK = (LNF, NFL)\\nJRP = (HTG, MRC)\\nNHV = (GFS, MBR)\\nNQB = (HXT, JVN)\\nHLP = (SMX, TSM)\\nPXA = (KBG, KQF)\\n'"
      ]
     },
     "execution_count": 40,
     "metadata": {},
     "output_type": "execute_result"
    }
   ],
   "source": [
    "data"
   ]
  },
  {
   "cell_type": "code",
   "execution_count": 35,
   "metadata": {},
   "outputs": [],
   "source": [
    "example = \"\"\"RL\n",
    "\n",
    "AAA = (BBB, CCC)\n",
    "BBB = (DDD, EEE)\n",
    "CCC = (ZZZ, GGG)\n",
    "DDD = (DDD, DDD)\n",
    "EEE = (EEE, EEE)\n",
    "GGG = (GGG, GGG)\n",
    "ZZZ = (ZZZ, ZZZ)\"\"\"\n",
    "\n",
    "example2 = \"\"\"LLR\n",
    "\n",
    "AAA = (BBB, BBB)\n",
    "BBB = (AAA, ZZZ)\n",
    "ZZZ = (ZZZ, ZZZ)\"\"\""
   ]
  },
  {
   "cell_type": "code",
   "execution_count": 57,
   "metadata": {},
   "outputs": [],
   "source": [
    "class Map:\n",
    "    \n",
    "    def __init__(self, text_input):\n",
    "        self.directions = text_input.split('\\n')[0]\n",
    "        self.maps = list(\n",
    "            map(lambda x: x.replace('=','').replace('(', '').replace(')','').replace(',',''),\n",
    "                                            text_input.split('\\n')[2:])\n",
    "        )\n",
    "        self.node_dict = self.get_node_dict()\n",
    "    \n",
    "    def get_node_dict(self):\n",
    "        node_dict = {}\n",
    "        \n",
    "        for m in self.maps:\n",
    "            if m != '':\n",
    "                actual, left, right = m.split()\n",
    "                if actual not in node_dict:\n",
    "                    node_dict[actual] = {}\n",
    "                    node_dict[actual]['L'] = left\n",
    "                    node_dict[actual]['R'] = right\n",
    "                \n",
    "        return node_dict\n",
    "    \n",
    "    \n",
    "    def get_steps_to_zzz(self):\n",
    "        \n",
    "        i_am  = 0\n",
    "        steps = 0\n",
    "        for i, d in enumerate(cycle(self.directions)):\n",
    "            \n",
    "            if i == 0: # you are on AAA\n",
    "                i_am = self.node_dict[\"AAA\"][d]\n",
    "                steps +=1\n",
    "                \n",
    "            else:\n",
    "                if i_am == 'ZZZ':\n",
    "                    break\n",
    "                \n",
    "                i_am = self.node_dict[i_am][d]\n",
    "                steps+=1\n",
    "                \n",
    "        return steps\n",
    "    \n",
    "    "
   ]
  },
  {
   "cell_type": "code",
   "execution_count": 58,
   "metadata": {},
   "outputs": [
    {
     "data": {
      "text/plain": [
       "2"
      ]
     },
     "execution_count": 58,
     "metadata": {},
     "output_type": "execute_result"
    }
   ],
   "source": [
    "Map(example).get_steps_to_zzz()"
   ]
  },
  {
   "cell_type": "code",
   "execution_count": 59,
   "metadata": {},
   "outputs": [
    {
     "data": {
      "text/plain": [
       "6"
      ]
     },
     "execution_count": 59,
     "metadata": {},
     "output_type": "execute_result"
    }
   ],
   "source": [
    "Map(example2).get_steps_to_zzz()"
   ]
  },
  {
   "cell_type": "code",
   "execution_count": 61,
   "metadata": {},
   "outputs": [],
   "source": [
    "map_data = Map(data).get_steps_to_zzz()"
   ]
  },
  {
   "cell_type": "code",
   "execution_count": 62,
   "metadata": {},
   "outputs": [
    {
     "data": {
      "text/plain": [
       "22199"
      ]
     },
     "execution_count": 62,
     "metadata": {},
     "output_type": "execute_result"
    }
   ],
   "source": [
    "map_data"
   ]
  }
 ],
 "metadata": {
  "kernelspec": {
   "display_name": "venv",
   "language": "python",
   "name": "python3"
  },
  "language_info": {
   "codemirror_mode": {
    "name": "ipython",
    "version": 3
   },
   "file_extension": ".py",
   "mimetype": "text/x-python",
   "name": "python",
   "nbconvert_exporter": "python",
   "pygments_lexer": "ipython3",
   "version": "3.12.0"
  }
 },
 "nbformat": 4,
 "nbformat_minor": 2
}
