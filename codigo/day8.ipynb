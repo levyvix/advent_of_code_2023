{
 "cells": [
  {
   "cell_type": "code",
   "execution_count": 22,
   "metadata": {},
   "outputs": [],
   "source": [
    "import re\n",
    "import os\n",
    "from itertools import cycle"
   ]
  },
  {
   "cell_type": "code",
   "execution_count": 23,
   "metadata": {},
   "outputs": [],
   "source": [
    "data = open(os.path.join('..', 'data', 'day8.txt'), 'r').read()"
   ]
  },
  {
   "cell_type": "code",
   "execution_count": 35,
   "metadata": {},
   "outputs": [],
   "source": [
    "example = \"\"\"RL\n",
    "\n",
    "AAA = (BBB, CCC)\n",
    "BBB = (DDD, EEE)\n",
    "CCC = (ZZZ, GGG)\n",
    "DDD = (DDD, DDD)\n",
    "EEE = (EEE, EEE)\n",
    "GGG = (GGG, GGG)\n",
    "ZZZ = (ZZZ, ZZZ)\"\"\"\n",
    "\n",
    "example2 = \"\"\"LLR\n",
    "\n",
    "AAA = (BBB, BBB)\n",
    "BBB = (AAA, ZZZ)\n",
    "ZZZ = (ZZZ, ZZZ)\"\"\""
   ]
  },
  {
   "cell_type": "code",
   "execution_count": 57,
   "metadata": {},
   "outputs": [],
   "source": [
    "class Map:\n",
    "    \n",
    "    def __init__(self, text_input):\n",
    "        self.directions = text_input.split('\\n')[0]\n",
    "        self.maps = list(\n",
    "            map(lambda x: x.replace('=','').replace('(', '').replace(')','').replace(',',''),\n",
    "                                            text_input.split('\\n')[2:])\n",
    "        )\n",
    "        self.node_dict = self.get_node_dict()\n",
    "    \n",
    "    def get_node_dict(self):\n",
    "        node_dict = {}\n",
    "        \n",
    "        for m in self.maps:\n",
    "            if m != '':\n",
    "                actual, left, right = m.split()\n",
    "                if actual not in node_dict:\n",
    "                    node_dict[actual] = {}\n",
    "                    node_dict[actual]['L'] = left\n",
    "                    node_dict[actual]['R'] = right\n",
    "                \n",
    "        return node_dict\n",
    "    \n",
    "    \n",
    "    def get_steps_to_zzz(self):\n",
    "        \n",
    "        i_am  = 0\n",
    "        steps = 0\n",
    "        for i, d in enumerate(cycle(self.directions)):\n",
    "            \n",
    "            if i == 0: # you are on AAA\n",
    "                i_am = self.node_dict[\"AAA\"][d]\n",
    "                steps +=1\n",
    "                \n",
    "            else:\n",
    "                if i_am == 'ZZZ':\n",
    "                    break\n",
    "                \n",
    "                i_am = self.node_dict[i_am][d]\n",
    "                steps+=1\n",
    "                \n",
    "        return steps\n",
    "    \n",
    "    "
   ]
  },
  {
   "cell_type": "code",
   "execution_count": 58,
   "metadata": {},
   "outputs": [
    {
     "data": {
      "text/plain": [
       "2"
      ]
     },
     "execution_count": 58,
     "metadata": {},
     "output_type": "execute_result"
    }
   ],
   "source": [
    "Map(example).get_steps_to_zzz()"
   ]
  },
  {
   "cell_type": "code",
   "execution_count": 59,
   "metadata": {},
   "outputs": [
    {
     "data": {
      "text/plain": [
       "6"
      ]
     },
     "execution_count": 59,
     "metadata": {},
     "output_type": "execute_result"
    }
   ],
   "source": [
    "Map(example2).get_steps_to_zzz()"
   ]
  },
  {
   "cell_type": "code",
   "execution_count": 63,
   "metadata": {},
   "outputs": [
    {
     "data": {
      "text/plain": [
       "22199"
      ]
     },
     "execution_count": 63,
     "metadata": {},
     "output_type": "execute_result"
    }
   ],
   "source": [
    "Map(data).get_steps_to_zzz()"
   ]
  },
  {
   "cell_type": "markdown",
   "metadata": {},
   "source": [
    "part two"
   ]
  },
  {
   "cell_type": "markdown",
   "metadata": {},
   "source": []
  }
 ],
 "metadata": {
  "kernelspec": {
   "display_name": "venv",
   "language": "python",
   "name": "python3"
  },
  "language_info": {
   "codemirror_mode": {
    "name": "ipython",
    "version": 3
   },
   "file_extension": ".py",
   "mimetype": "text/x-python",
   "name": "python",
   "nbconvert_exporter": "python",
   "pygments_lexer": "ipython3",
   "version": "3.12.0"
  }
 },
 "nbformat": 4,
 "nbformat_minor": 2
}
