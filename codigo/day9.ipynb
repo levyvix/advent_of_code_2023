{
 "cells": [
  {
   "cell_type": "code",
   "execution_count": 4,
   "metadata": {},
   "outputs": [],
   "source": [
    "import re\n",
    "import os\n",
    "import math\n",
    "import numpy as np"
   ]
  },
  {
   "cell_type": "code",
   "execution_count": 5,
   "metadata": {},
   "outputs": [],
   "source": [
    "example = \"\"\"0 3 6 9 12 15\n",
    "1 3 6 10 15 21\n",
    "10 13 16 21 30 45\"\"\""
   ]
  },
  {
   "cell_type": "code",
   "execution_count": 8,
   "metadata": {},
   "outputs": [],
   "source": [
    "def decompose(l):\n",
    "    primeiroL = l.copy()\n",
    "\n",
    "    diff = primeiroL.copy()\n",
    "    i = 1\n",
    "    while True:\n",
    "        diff = np.diff(diff)\n",
    "        print(diff)\n",
    "        if all(np.equal(np.zeros(6 - i, dtype=\"int\"), diff)):\n",
    "            print(\"yes\")\n",
    "            break\n",
    "        else:\n",
    "            print(\"no\")\n",
    "        i += 1"
   ]
  },
  {
   "cell_type": "code",
   "execution_count": 9,
   "metadata": {},
   "outputs": [],
   "source": [
    "l_of_lists = []\n",
    "for l in example.split(\"\\n\"):\n",
    "    l_int = [int(n) for n in l.split()]\n",
    "    l_of_lists.append(l_int)"
   ]
  },
  {
   "cell_type": "code",
   "execution_count": 10,
   "metadata": {},
   "outputs": [
    {
     "name": "stdout",
     "output_type": "stream",
     "text": [
      "[3 3 3 3 3]\n",
      "<class 'numpy.ndarray'>\n",
      "no\n",
      "[0 0 0 0]\n",
      "<class 'numpy.ndarray'>\n",
      "yes\n",
      "None\n",
      "[2 3 4 5 6]\n",
      "<class 'numpy.ndarray'>\n",
      "no\n",
      "[1 1 1 1]\n",
      "<class 'numpy.ndarray'>\n",
      "no\n",
      "[0 0 0]\n",
      "<class 'numpy.ndarray'>\n",
      "yes\n",
      "None\n",
      "[ 3  3  5  9 15]\n",
      "<class 'numpy.ndarray'>\n",
      "no\n",
      "[0 2 4 6]\n",
      "<class 'numpy.ndarray'>\n",
      "no\n",
      "[2 2 2]\n",
      "<class 'numpy.ndarray'>\n",
      "no\n",
      "[0 0]\n",
      "<class 'numpy.ndarray'>\n",
      "yes\n",
      "None\n"
     ]
    }
   ],
   "source": [
    "for l in l_of_lists:\n",
    "    next_number = decompose(l)\n",
    "    print(next_number)"
   ]
  },
  {
   "cell_type": "code",
   "execution_count": null,
   "metadata": {},
   "outputs": [],
   "source": []
  },
  {
   "cell_type": "code",
   "execution_count": null,
   "metadata": {},
   "outputs": [],
   "source": []
  }
 ],
 "metadata": {
  "kernelspec": {
   "display_name": "venv",
   "language": "python",
   "name": "python3"
  },
  "language_info": {
   "codemirror_mode": {
    "name": "ipython",
    "version": 3
   },
   "file_extension": ".py",
   "mimetype": "text/x-python",
   "name": "python",
   "nbconvert_exporter": "python",
   "pygments_lexer": "ipython3",
   "version": "3.12.0"
  }
 },
 "nbformat": 4,
 "nbformat_minor": 2
}
