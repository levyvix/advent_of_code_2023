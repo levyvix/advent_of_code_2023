{
 "cells": [
  {
   "cell_type": "code",
   "execution_count": 1,
   "metadata": {},
   "outputs": [],
   "source": [
    "import re\n",
    "import os"
   ]
  },
  {
   "cell_type": "code",
   "execution_count": 2,
   "metadata": {},
   "outputs": [],
   "source": [
    "with open(os.path.join(\"..\", \"data\", \"day2.txt\"), \"r\") as f:\n",
    "    data = f.read().splitlines()"
   ]
  },
  {
   "cell_type": "code",
   "execution_count": 6,
   "metadata": {},
   "outputs": [],
   "source": [
    "data = [line.replace(\":\", \";\") for line in data]"
   ]
  },
  {
   "cell_type": "markdown",
   "metadata": {},
   "source": [
    "part one"
   ]
  },
  {
   "cell_type": "code",
   "execution_count": 7,
   "metadata": {},
   "outputs": [
    {
     "data": {
      "text/plain": [
       "2505"
      ]
     },
     "execution_count": 7,
     "metadata": {},
     "output_type": "execute_result"
    }
   ],
   "source": [
    "sum_game_id = 0\n",
    "\n",
    "for line in data:\n",
    "    game_id = None\n",
    "    max_red = 0\n",
    "    max_blue = 0\n",
    "    max_green = 0\n",
    "\n",
    "    for i, push in enumerate(line.split(\";\")):\n",
    "        if i == 0:\n",
    "            game_id = re.compile(r\"(\\d+)\").findall(push)[0]\n",
    "        else:\n",
    "            try:\n",
    "                blue = re.compile(r\"(\\d+) blue\").findall(push)[0]\n",
    "            except IndexError:\n",
    "                blue = 0\n",
    "            try:\n",
    "                red = re.compile(r\"(\\d+) red\").findall(push)[0]\n",
    "            except IndexError:\n",
    "                red = 0\n",
    "            try:\n",
    "                green = re.compile(r\"(\\d+) green\").findall(push)[0]\n",
    "            except IndexError:\n",
    "                green = 0\n",
    "\n",
    "            if int(blue) > max_blue:\n",
    "                max_blue = int(blue)\n",
    "            if int(red) > max_red:\n",
    "                max_red = int(red)\n",
    "            if int(green) > max_green:\n",
    "                max_green = int(green)\n",
    "\n",
    "    if not (max_red > 12 or max_blue > 14 or max_green > 13):\n",
    "        sum_game_id += int(game_id)\n",
    "\n",
    "sum_game_id"
   ]
  },
  {
   "cell_type": "markdown",
   "metadata": {},
   "source": [
    "part two"
   ]
  },
  {
   "cell_type": "code",
   "execution_count": 8,
   "metadata": {},
   "outputs": [
    {
     "data": {
      "text/plain": [
       "70265"
      ]
     },
     "execution_count": 8,
     "metadata": {},
     "output_type": "execute_result"
    }
   ],
   "source": [
    "power_of_set = 0\n",
    "for line in data:\n",
    "    game_id = None\n",
    "    max_red = 0\n",
    "    max_blue = 0\n",
    "    max_green = 0\n",
    "    for i, push in enumerate(line.split(\";\")):\n",
    "        if i == 0:\n",
    "            game_id = re.compile(r\"(\\d+)\").findall(push)[0]\n",
    "        else:\n",
    "            # handle null cases\n",
    "            try:\n",
    "                blue = re.compile(r\"(\\d+) blue\").findall(push)[0]\n",
    "            except IndexError:\n",
    "                blue = 0\n",
    "            try:\n",
    "                red = re.compile(r\"(\\d+) red\").findall(push)[0]\n",
    "            except IndexError:\n",
    "                red = 0\n",
    "            try:\n",
    "                green = re.compile(r\"(\\d+) green\").findall(push)[0]\n",
    "            except IndexError:\n",
    "                green = 0\n",
    "\n",
    "            # print(f'{game_id} {red} {green} {blue}')\n",
    "\n",
    "            if int(blue) > max_blue:\n",
    "                max_blue = int(blue)\n",
    "            if int(red) > max_red:\n",
    "                max_red = int(red)\n",
    "            if int(green) > max_green:\n",
    "                max_green = int(green)\n",
    "\n",
    "    power_of_set += max_red * max_blue * max_green\n",
    "\n",
    "power_of_set"
   ]
  }
 ],
 "metadata": {
  "kernelspec": {
   "display_name": "linkedin",
   "language": "python",
   "name": "python3"
  },
  "language_info": {
   "codemirror_mode": {
    "name": "ipython",
    "version": 3
   },
   "file_extension": ".py",
   "mimetype": "text/x-python",
   "name": "python",
   "nbconvert_exporter": "python",
   "pygments_lexer": "ipython3",
   "version": "3.12.0"
  }
 },
 "nbformat": 4,
 "nbformat_minor": 2
}
