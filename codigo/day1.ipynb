{
 "cells": [
  {
   "cell_type": "code",
   "execution_count": 9,
   "metadata": {},
   "outputs": [],
   "source": [
    "import re\n",
    "import os"
   ]
  },
  {
   "cell_type": "code",
   "execution_count": 15,
   "metadata": {},
   "outputs": [
    {
     "name": "stdout",
     "output_type": "stream",
     "text": [
      "54990\n"
     ]
    }
   ],
   "source": [
    "def remove_letters(s: str) -> int:\n",
    "    \"\"\"get the first and last digits from a string\n",
    "\n",
    "    Args:\n",
    "        s (str): the string\n",
    "\n",
    "    Returns:\n",
    "        int: the first and last digits concatenated as a two-digit number\n",
    "\n",
    "\n",
    "    Examples:\n",
    "    >>> remove_letters(\"1two2three3four4five5six6seven7eight8nine9\")\n",
    "    19\n",
    "    \"\"\"\n",
    "    digits = re.compile(r\"\\d\").findall(s)\n",
    "    digits = digits[0], digits[-1]\n",
    "    return int(\"\".join(digits))\n",
    "\n",
    "\n",
    "with open(os.path.join(\"..\", \"data\", \"day1.txt\"), \"r\") as f:\n",
    "    data = f.readlines()\n",
    "    data = list(map(lambda x: x.strip(), data))\n",
    "\n",
    "numbers = list(map(remove_letters, data))\n",
    "\n",
    "print(sum(numbers))"
   ]
  },
  {
   "cell_type": "markdown",
   "metadata": {},
   "source": [
    "part two"
   ]
  },
  {
   "cell_type": "code",
   "execution_count": 14,
   "metadata": {},
   "outputs": [
    {
     "name": "stdout",
     "output_type": "stream",
     "text": [
      "54473\n"
     ]
    }
   ],
   "source": [
    "def get_digits(s: str) -> int:\n",
    "    \"\"\"Remove letter from a string, and return the first and last digits\n",
    "\n",
    "    Args:\n",
    "        s (str): string to be parsed\n",
    "\n",
    "    Returns:\n",
    "        int: first and last digits\n",
    "\n",
    "    Examples:\n",
    "    >>> get_digits(\"two2three3four4five5six6seven7eight8nine9\")\n",
    "    29\n",
    "    \"\"\"\n",
    "\n",
    "    mapping = {\n",
    "        \"one\": 1,\n",
    "        \"two\": 2,\n",
    "        \"three\": 3,\n",
    "        \"four\": 4,\n",
    "        \"five\": 5,\n",
    "        \"six\": 6,\n",
    "        \"seven\": 7,\n",
    "        \"eight\": 8,\n",
    "        \"nine\": 9,\n",
    "    }\n",
    "\n",
    "    p = re.findall(r\"(?=(\\d|one|two|three|four|five|six|seven|eight|nine))\", s)\n",
    "    result = []\n",
    "    for digit in p:\n",
    "        try:\n",
    "            result.append(int(digit))\n",
    "        except Exception:\n",
    "            result.append(mapping[digit])\n",
    "\n",
    "    return int(\"\".join([str(result[0]), str(result[-1])]))\n",
    "\n",
    "\n",
    "with open(os.path.join(\"..\", \"data\", \"day1.txt\"), \"r\") as f:\n",
    "    data = f.readlines()\n",
    "    data = list(map(lambda x: x.strip(), data))\n",
    "\n",
    "numbers = list(map(get_digits, data))\n",
    "\n",
    "print(sum(numbers))"
   ]
  },
  {
   "cell_type": "code",
   "execution_count": null,
   "metadata": {},
   "outputs": [],
   "source": []
  }
 ],
 "metadata": {
  "kernelspec": {
   "display_name": "venv",
   "language": "python",
   "name": "python3"
  },
  "language_info": {
   "codemirror_mode": {
    "name": "ipython",
    "version": 3
   },
   "file_extension": ".py",
   "mimetype": "text/x-python",
   "name": "python",
   "nbconvert_exporter": "python",
   "pygments_lexer": "ipython3",
   "version": "3.12.0"
  }
 },
 "nbformat": 4,
 "nbformat_minor": 2
}
