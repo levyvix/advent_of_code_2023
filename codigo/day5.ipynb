{
 "cells": [
  {
   "cell_type": "code",
   "execution_count": 1,
   "metadata": {},
   "outputs": [],
   "source": [
    "import re\n",
    "\n",
    "\n",
    "def carrega_arquivo():\n",
    "    with open(\"../data/day5.txt\") as f:\n",
    "        return f.read()"
   ]
  },
  {
   "cell_type": "code",
   "execution_count": 2,
   "metadata": {},
   "outputs": [],
   "source": [
    "data = carrega_arquivo()"
   ]
  },
  {
   "cell_type": "code",
   "execution_count": 3,
   "metadata": {},
   "outputs": [],
   "source": [
    "# example = \"\"\"seeds: 79 14 55 13\n",
    "\n",
    "# seed-to-soil map:\n",
    "# 50 98 2\n",
    "# 52 50 48\n",
    "\n",
    "# soil-to-fertilizer map:\n",
    "# 0 15 37\n",
    "# 37 52 2\n",
    "# 39 0 15\n",
    "\n",
    "# fertilizer-to-water map:\n",
    "# 49 53 8\n",
    "# 0 11 42\n",
    "# 42 0 7\n",
    "# 57 7 4\n",
    "\n",
    "# water-to-light map:\n",
    "# 88 18 7\n",
    "# 18 25 70\n",
    "\n",
    "# light-to-temperature map:\n",
    "# 45 77 23\n",
    "# 81 45 19\n",
    "# 68 64 13\n",
    "\n",
    "# temperature-to-humidity map:\n",
    "# 0 69 1\n",
    "# 1 0 69\n",
    "\n",
    "# humidity-to-location map:\n",
    "# 60 56 37\n",
    "# 56 93 4\"\"\""
   ]
  },
  {
   "cell_type": "code",
   "execution_count": 6,
   "metadata": {},
   "outputs": [],
   "source": [
    "class Range:\n",
    "    def __init__(self, text_range) -> None:\n",
    "        dest, source, range_ = text_range.split()\n",
    "\n",
    "        self.source = int(source)\n",
    "        self.destination = int(dest)\n",
    "        self.range = int(range_)\n",
    "\n",
    "    def __repr__(self) -> str:\n",
    "        return f\"Range {self.destination}, {self.source}, {self.range}\"\n",
    "\n",
    "    def __contains__(self, item: int) -> bool:\n",
    "        \"\"\"if the number is in the source range, return True\n",
    "\n",
    "        Args:\n",
    "            item (int): source number\n",
    "\n",
    "        Returns:\n",
    "            bool: True if the number is in the source range\n",
    "        \"\"\"\n",
    "        return self.source <= item < self.source + self.range\n",
    "\n",
    "    def convert(self, item: int) -> int:\n",
    "        \"\"\"convert items from source to destination\n",
    "\n",
    "        Args:\n",
    "            item (int): source number\n",
    "\n",
    "        Returns:\n",
    "            int: destination number\n",
    "        \"\"\"\n",
    "        return item - self.source + self.destination"
   ]
  },
  {
   "cell_type": "code",
   "execution_count": 7,
   "metadata": {},
   "outputs": [],
   "source": [
    "class Table:\n",
    "    table_index = {}\n",
    "\n",
    "    def __init__(self, text_table: str) -> None:\n",
    "        header, body = text_table.split(\"\\n\", 1)\n",
    "        lines = body.split(\"\\n\")\n",
    "        self.load_lines(lines)\n",
    "        self.name = header.split()[0]\n",
    "        self.source, _, self.destination = self.name.split(\"-\")\n",
    "        self.table_index[self.source] = self\n",
    "\n",
    "    def load_lines(self, lines: str):\n",
    "        \"\"\"load the lines from the table in Range objects\n",
    "\n",
    "        Args:\n",
    "            lines (str): the lines from the table\n",
    "        \"\"\"\n",
    "        self.ranges = [Range(line) for line in lines]\n",
    "\n",
    "    def __repr__(self) -> str:\n",
    "        return f\"{self.name}: {self.source} -> {self.destination}\"\n",
    "\n",
    "    def __getitem__(self, item: int):\n",
    "        for r in self.ranges:\n",
    "            if item in r:\n",
    "                return r.convert(item)\n",
    "\n",
    "        return item"
   ]
  },
  {
   "cell_type": "code",
   "execution_count": null,
   "metadata": {},
   "outputs": [],
   "source": [
    "def get_tables(data):\n",
    "    all_tables = data.split(\"\\n\\n\")\n",
    "    return all_tables[0], all_tables[1:]\n",
    "\n",
    "\n",
    "seeds, tables = get_tables(data)\n",
    "seeds = seeds.removeprefix(\"seeds: \")\n",
    "seeds = [int(n) for n in seeds.split()]"
   ]
  },
  {
   "cell_type": "code",
   "execution_count": 8,
   "metadata": {},
   "outputs": [],
   "source": [
    "live_tables = [Table(t) for t in tables]"
   ]
  },
  {
   "cell_type": "code",
   "execution_count": 14,
   "metadata": {},
   "outputs": [],
   "source": [
    "# convert from map to map\n",
    "\n",
    "\n",
    "def convert_seeds(seeds: list[int], live_tables: list[Table]) -> list[int]:\n",
    "    \"\"\"convert seeds from map to map using the live_tables\n",
    "\n",
    "    Args:\n",
    "        seeds (list[int]): seeds to convert\n",
    "        live_tables (list[Table]): list of live tables\n",
    "\n",
    "    Returns:\n",
    "        list[int]: the converted seeds list for the last table\n",
    "    \"\"\"\n",
    "    for table in live_tables:\n",
    "        seeds = [table[s] for s in seeds]\n",
    "    return seeds"
   ]
  },
  {
   "cell_type": "code",
   "execution_count": 15,
   "metadata": {},
   "outputs": [
    {
     "data": {
      "text/plain": [
       "600279879"
      ]
     },
     "execution_count": 15,
     "metadata": {},
     "output_type": "execute_result"
    }
   ],
   "source": [
    "min(convert_seeds(seeds, live_tables))"
   ]
  },
  {
   "cell_type": "markdown",
   "metadata": {},
   "source": [
    "part two"
   ]
  },
  {
   "cell_type": "code",
   "execution_count": 98,
   "metadata": {},
   "outputs": [],
   "source": [
    "example = \"\"\"seeds: 79 14 55 13\n",
    "\n",
    "seed-to-soil map:\n",
    "50 98 2\n",
    "52 50 48\n",
    "\n",
    "soil-to-fertilizer map:\n",
    "0 15 37\n",
    "37 52 2\n",
    "39 0 15\n",
    "\n",
    "fertilizer-to-water map:\n",
    "49 53 8\n",
    "0 11 42\n",
    "42 0 7\n",
    "57 7 4\n",
    "\n",
    "water-to-light map:\n",
    "88 18 7\n",
    "18 25 70\n",
    "\n",
    "light-to-temperature map:\n",
    "45 77 23\n",
    "81 45 19\n",
    "68 64 13\n",
    "\n",
    "temperature-to-humidity map:\n",
    "0 69 1\n",
    "1 0 69\n",
    "\n",
    "humidity-to-location map:\n",
    "60 56 37\n",
    "56 93 4\"\"\""
   ]
  },
  {
   "cell_type": "code",
   "execution_count": 106,
   "metadata": {},
   "outputs": [],
   "source": [
    "def get_tables(data):\n",
    "    all_tables = data.split(\"\\n\\n\")\n",
    "    return all_tables[0], all_tables[1:]\n",
    "\n",
    "\n",
    "seeds, tables = get_tables(data)\n",
    "seeds = seeds.removeprefix(\"seeds: \")\n",
    "seeds = [int(n) for n in seeds.split()]"
   ]
  },
  {
   "cell_type": "code",
   "execution_count": 107,
   "metadata": {},
   "outputs": [],
   "source": [
    "# list to pairs of tuples\n",
    "seed_pairs = list(zip(seeds[::2], seeds[1::2]))"
   ]
  },
  {
   "cell_type": "code",
   "execution_count": 108,
   "metadata": {},
   "outputs": [],
   "source": [
    "class Range:\n",
    "    def __init__(self, text_range) -> None:\n",
    "        dest, source, range_ = text_range.split()\n",
    "\n",
    "        self.source = int(source)\n",
    "        self.destination = int(dest)\n",
    "        self.range = int(range_)\n",
    "\n",
    "    def __repr__(self) -> str:\n",
    "        return f\"Range {self.destination}, {self.source}, {self.range}\"\n",
    "\n",
    "    def __contains__(self, item: int) -> bool:\n",
    "        \"\"\"if the number is in the source range, return True\n",
    "\n",
    "        Args:\n",
    "            item (int): source number\n",
    "\n",
    "        Returns:\n",
    "            bool: True if the number is in the source range\n",
    "        \"\"\"\n",
    "        return self.source <= item < self.source + self.range\n",
    "\n",
    "    def convert(self, item: int) -> int:\n",
    "        \"\"\"convert items from source to destination\n",
    "\n",
    "        Args:\n",
    "            item (int): source number\n",
    "\n",
    "        Returns:\n",
    "            int: destination number\n",
    "        \"\"\"\n",
    "        return item - self.source + self.destination\n",
    "\n",
    "\n",
    "class Table:\n",
    "    table_index = {}\n",
    "\n",
    "    def __init__(self, text_table: str) -> None:\n",
    "        header, body = text_table.split(\"\\n\", 1)\n",
    "        lines = body.split(\"\\n\")\n",
    "        self.load_lines(lines)\n",
    "        self.name = header.split()[0]\n",
    "        self.source, _, self.destination = self.name.split(\"-\")\n",
    "        self.table_index[self.source] = self\n",
    "\n",
    "    def load_lines(self, lines: str):\n",
    "        \"\"\"load the lines from the table in Range objects\n",
    "\n",
    "        Args:\n",
    "            lines (str): the lines from the table\n",
    "        \"\"\"\n",
    "        self.ranges = [Range(line) for line in lines]\n",
    "\n",
    "    def __repr__(self) -> str:\n",
    "        return f\"{self.name}: {self.source} -> {self.destination}\"\n",
    "\n",
    "    def __getitem__(self, item: int):\n",
    "        for r in self.ranges:\n",
    "            if item in r:\n",
    "                return r.convert(item)\n",
    "\n",
    "        return item\n",
    "\n",
    "\n",
    "def untangle_seed_ranges(seed_pairs=list[tuple]):\n",
    "    \"\"\"convert a list of tuples into a list of numbers\n",
    "    each tuple contains the start, and the range\n",
    "    convert each tuple to range(start, start + range)\n",
    "\n",
    "    Example:\n",
    "    >>> untangle_seed_ranges([(1, 2), (3, 4)])\n",
    "    [1, 2, 3, 4]\n",
    "    \"\"\"\n",
    "\n",
    "    result = []\n",
    "    for start, range_ in seed_pairs:\n",
    "        result.extend(range(start, start + range_))\n",
    "    return result"
   ]
  },
  {
   "cell_type": "code",
   "execution_count": 109,
   "metadata": {},
   "outputs": [],
   "source": [
    "live_tables = [Table(t) for t in tables]"
   ]
  },
  {
   "cell_type": "code",
   "execution_count": 110,
   "metadata": {},
   "outputs": [],
   "source": [
    "# convert from map to map\n",
    "\n",
    "\n",
    "def convert_seeds(seeds: list[int], live_tables: list[Table]) -> list[int]:\n",
    "    \"\"\"convert seeds from map to map using the live_tables\n",
    "\n",
    "    Args:\n",
    "        seeds (list[int]): seeds to convert\n",
    "        live_tables (list[Table]): list of live tables\n",
    "\n",
    "    Returns:\n",
    "        list[int]: the converted seeds list for the last table\n",
    "    \"\"\"\n",
    "    for table in live_tables:\n",
    "        seeds = [table[s] for s in seeds]\n",
    "    return seeds"
   ]
  },
  {
   "cell_type": "code",
   "execution_count": null,
   "metadata": {},
   "outputs": [],
   "source": [
    "# MEMORY ERROR\n",
    "# min(convert_seeds(untangle_seed_ranges(seed_pairs), live_tables))"
   ]
  },
  {
   "cell_type": "code",
   "execution_count": 2,
   "metadata": {},
   "outputs": [
    {
     "name": "stdout",
     "output_type": "stream",
     "text": [
      "20191102\n"
     ]
    }
   ],
   "source": [
    "inputs, *blocks = open(\"../data/day5.txt\").read().split(\"\\n\\n\")\n",
    "\n",
    "inputs = list(map(int, inputs.split(\":\")[1].split()))\n",
    "\n",
    "seeds = []\n",
    "\n",
    "for i in range(0, len(inputs), 2):\n",
    "    seeds.append((inputs[i], inputs[i] + inputs[i + 1]))\n",
    "\n",
    "for block in blocks:\n",
    "    ranges = []\n",
    "    for line in block.splitlines()[1:]:\n",
    "        ranges.append(list(map(int, line.split())))\n",
    "    new = []\n",
    "    while len(seeds) > 0:\n",
    "        s, e = seeds.pop()\n",
    "        for a, b, c in ranges:\n",
    "            os = max(s, b)\n",
    "            oe = min(e, b + c)\n",
    "            if os < oe:\n",
    "                new.append((os - b + a, oe - b + a))\n",
    "                if os > s:\n",
    "                    seeds.append((s, os))\n",
    "                if e > oe:\n",
    "                    seeds.append((oe, e))\n",
    "                break\n",
    "        else:\n",
    "            new.append((s, e))\n",
    "    seeds = new\n",
    "\n",
    "print(min(seeds)[0])"
   ]
  }
 ],
 "metadata": {
  "kernelspec": {
   "display_name": "linkedin",
   "language": "python",
   "name": "python3"
  },
  "language_info": {
   "codemirror_mode": {
    "name": "ipython",
    "version": 3
   },
   "file_extension": ".py",
   "mimetype": "text/x-python",
   "name": "python",
   "nbconvert_exporter": "python",
   "pygments_lexer": "ipython3",
   "version": "3.9.18"
  }
 },
 "nbformat": 4,
 "nbformat_minor": 2
}
