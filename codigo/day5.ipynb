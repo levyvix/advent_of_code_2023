{
 "cells": [
  {
   "cell_type": "code",
   "execution_count": 1,
   "metadata": {},
   "outputs": [],
   "source": [
    "import re\n",
    "\n",
    "\n",
    "def carrega_arquivo():\n",
    "    with open(\"../data/day5.txt\") as f:\n",
    "        return f.read().splitlines()"
   ]
  },
  {
   "cell_type": "code",
   "execution_count": 2,
   "metadata": {},
   "outputs": [],
   "source": [
    "data = carrega_arquivo()"
   ]
  },
  {
   "cell_type": "code",
   "execution_count": 9,
   "metadata": {},
   "outputs": [],
   "source": [
    "def get_seeds(arr):\n",
    "    seeds = arr.split(\": \")[1]\n",
    "    seeds = [int(n) for n in seeds.split()]\n",
    "    return seeds\n",
    "\n",
    "\n",
    "seed_list = get_seeds(data[0])"
   ]
  },
  {
   "cell_type": "code",
   "execution_count": 11,
   "metadata": {},
   "outputs": [],
   "source": [
    "example = \"\"\"seeds: 79 14 55 13\n",
    "\n",
    "seed-to-soil map:\n",
    "50 98 2\n",
    "52 50 48\n",
    "\n",
    "soil-to-fertilizer map:\n",
    "0 15 37\n",
    "37 52 2\n",
    "39 0 15\"\"\".split(\n",
    "    \"\\n\"\n",
    ")"
   ]
  },
  {
   "cell_type": "code",
   "execution_count": 12,
   "metadata": {},
   "outputs": [
    {
     "data": {
      "text/plain": [
       "[79, 14, 55, 13]"
      ]
     },
     "execution_count": 12,
     "metadata": {},
     "output_type": "execute_result"
    }
   ],
   "source": [
    "get_seeds(example[0])"
   ]
  },
  {
   "cell_type": "code",
   "execution_count": 63,
   "metadata": {},
   "outputs": [],
   "source": [
    "# seed to soil\n",
    "\n",
    "\n",
    "def get_seed_soil_map(dataset):\n",
    "    seed_soil = {}\n",
    "    for line in dataset:\n",
    "        if line.startswith(\"soil-to-fertilizer\"):\n",
    "\n",
    "            if line == '':\n",
    "                break\n",
    "\n",
    "\n",
    "\n",
    "            dest, source, until = [int(n) for n in line.split()]\n",
    "\n",
    "            for rs, rd in zip(range(source, source + until),  range(dest, dest + until)):\n",
    "                # print(rs, rd)\n",
    "                seed_soil[rs] = rd\n",
    "\n",
    "        return seed_soil\n",
    "\n",
    "\n",
    "def get_soil_to_fert_map(dataset):\n",
    "    soil_fert = {}\n",
    "    for line in dataset[3:]:\n",
    "        if line == \"\":\n",
    "            break\n",
    "\n",
    "        dest, source, until = [int(n) for n in line.split()]\n",
    "\n",
    "        for rs, rd in zip(range(source, source + until),  range(dest, dest + until)):\n",
    "            # print(rs, rd)\n",
    "            soil_fert[rs] = rd\n",
    "\n",
    "    return soil_fert"
   ]
  },
  {
   "cell_type": "code",
   "execution_count": 64,
   "metadata": {},
   "outputs": [
    {
     "data": {
      "text/plain": [
       "{98: 50,\n",
       " 99: 51,\n",
       " 50: 52,\n",
       " 51: 53,\n",
       " 52: 54,\n",
       " 53: 55,\n",
       " 54: 56,\n",
       " 55: 57,\n",
       " 56: 58,\n",
       " 57: 59,\n",
       " 58: 60,\n",
       " 59: 61,\n",
       " 60: 62,\n",
       " 61: 63,\n",
       " 62: 64,\n",
       " 63: 65,\n",
       " 64: 66,\n",
       " 65: 67,\n",
       " 66: 68,\n",
       " 67: 69,\n",
       " 68: 70,\n",
       " 69: 71,\n",
       " 70: 72,\n",
       " 71: 73,\n",
       " 72: 74,\n",
       " 73: 75,\n",
       " 74: 76,\n",
       " 75: 77,\n",
       " 76: 78,\n",
       " 77: 79,\n",
       " 78: 80,\n",
       " 79: 81,\n",
       " 80: 82,\n",
       " 81: 83,\n",
       " 82: 84,\n",
       " 83: 85,\n",
       " 84: 86,\n",
       " 85: 87,\n",
       " 86: 88,\n",
       " 87: 89,\n",
       " 88: 90,\n",
       " 89: 91,\n",
       " 90: 92,\n",
       " 91: 93,\n",
       " 92: 94,\n",
       " 93: 95,\n",
       " 94: 96,\n",
       " 95: 97,\n",
       " 96: 98,\n",
       " 97: 99}"
      ]
     },
     "execution_count": 64,
     "metadata": {},
     "output_type": "execute_result"
    }
   ],
   "source": [
    "get_seed_soil_map(example)"
   ]
  }
 ],
 "metadata": {
  "kernelspec": {
   "display_name": "linkedin",
   "language": "python",
   "name": "python3"
  },
  "language_info": {
   "codemirror_mode": {
    "name": "ipython",
    "version": 3
   },
   "file_extension": ".py",
   "mimetype": "text/x-python",
   "name": "python",
   "nbconvert_exporter": "python",
   "pygments_lexer": "ipython3",
   "version": "3.9.18"
  }
 },
 "nbformat": 4,
 "nbformat_minor": 2
}
