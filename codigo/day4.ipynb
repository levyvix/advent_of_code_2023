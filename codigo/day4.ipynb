{
 "cells": [
  {
   "cell_type": "code",
   "execution_count": 1,
   "metadata": {},
   "outputs": [],
   "source": [
    "import re"
   ]
  },
  {
   "cell_type": "code",
   "execution_count": 3,
   "metadata": {},
   "outputs": [],
   "source": [
    "def carrega_arquivo():\n",
    "    with open(\"../data/day4.txt\") as f:\n",
    "        return f.read().splitlines()"
   ]
  },
  {
   "cell_type": "code",
   "execution_count": 4,
   "metadata": {},
   "outputs": [],
   "source": [
    "data = carrega_arquivo()"
   ]
  },
  {
   "cell_type": "code",
   "execution_count": 20,
   "metadata": {},
   "outputs": [
    {
     "data": {
      "text/plain": [
       "'Card   1: 99 65 21  4 72 20 77 98 27 70 | 34 84 74 18 41 45 72  2  1 75 52 47 50 93 25 10 79 87 42 69  8 12 54 96 92'"
      ]
     },
     "execution_count": 20,
     "metadata": {},
     "output_type": "execute_result"
    }
   ],
   "source": [
    "data[0]"
   ]
  },
  {
   "cell_type": "markdown",
   "metadata": {},
   "source": [
    "part one"
   ]
  },
  {
   "cell_type": "code",
   "execution_count": 88,
   "metadata": {},
   "outputs": [],
   "source": [
    "def winning_numbers(card):\n",
    "    list_of_numbers = card.split(\":\")[1].split(\"|\")[0]\n",
    "\n",
    "    return [int(n) for n in list_of_numbers.strip().split()]\n",
    "\n",
    "\n",
    "def my_numbers(card):\n",
    "    list_of_numbers = card.split(\":\")[1].split(\"|\")[1]\n",
    "\n",
    "    return [int(n) for n in list_of_numbers.strip().split()]\n",
    "\n",
    "\n",
    "def game_id(card):\n",
    "    return int(card.split(':')[0].split()[1].strip())\n",
    "\n",
    "def calcular_resultado(linha):\n",
    "    matches = len(set(my_numbers(linha)) & set(winning_numbers(linha)))\n",
    "\n",
    "    return 2 ** (matches - 1) if matches > 0 else 0"
   ]
  },
  {
   "cell_type": "code",
   "execution_count": 86,
   "metadata": {},
   "outputs": [],
   "source": [
    "pontos = 0\n",
    "for line in data:\n",
    "    pontos += calcular_resultado(line)"
   ]
  },
  {
   "cell_type": "code",
   "execution_count": 71,
   "metadata": {},
   "outputs": [
    {
     "data": {
      "text/plain": [
       "32609"
      ]
     },
     "execution_count": 71,
     "metadata": {},
     "output_type": "execute_result"
    }
   ],
   "source": [
    "pontos"
   ]
  },
  {
   "cell_type": "markdown",
   "metadata": {},
   "source": [
    "part two"
   ]
  },
  {
   "cell_type": "code",
   "execution_count": 83,
   "metadata": {},
   "outputs": [],
   "source": [
    "def calcular_matches(linha):\n",
    "    return len(set(my_numbers(linha)) & set(winning_numbers(linha)))"
   ]
  },
  {
   "cell_type": "code",
   "execution_count": 97,
   "metadata": {},
   "outputs": [],
   "source": [
    "exemplo = \"\"\"Card 1: 41 48 83 86 17 | 83 86  6 31 17  9 48 53\n",
    "Card 2: 13 32 20 16 61 | 61 30 68 82 17 32 24 19\n",
    "Card 3:  1 21 53 59 44 | 69 82 63 72 16 21 14  1\n",
    "Card 4: 41 92 73 84 69 | 59 84 76 51 58  5 54 83\n",
    "Card 5: 87 83 26 28 32 | 88 30 70 12 93 22 82 36\n",
    "Card 6: 31 18 13 56 72 | 74 77 10 23 35 67 36 11\"\"\".split('\\n')"
   ]
  },
  {
   "cell_type": "code",
   "execution_count": 124,
   "metadata": {},
   "outputs": [
    {
     "data": {
      "text/plain": [
       "14624680"
      ]
     },
     "execution_count": 124,
     "metadata": {},
     "output_type": "execute_result"
    }
   ],
   "source": [
    "copias = {}\n",
    "\n",
    "for i, line in enumerate(data, 1):\n",
    "    numeros_pra_frente = calcular_matches(line)\n",
    "\n",
    "    if i not in copias:\n",
    "        copias[i] = 1\n",
    "\n",
    "    for n in range(game_id(line)+1, game_id(line) + numeros_pra_frente + 1, 1):\n",
    "        copias[n] = copias.get(n, 1) + copias[i]\n",
    "\n",
    "\n",
    "sum(copias.values())\n"
   ]
  }
 ],
 "metadata": {
  "kernelspec": {
   "display_name": "linkedin",
   "language": "python",
   "name": "python3"
  },
  "language_info": {
   "codemirror_mode": {
    "name": "ipython",
    "version": 3
   },
   "file_extension": ".py",
   "mimetype": "text/x-python",
   "name": "python",
   "nbconvert_exporter": "python",
   "pygments_lexer": "ipython3",
   "version": "3.9.18"
  }
 },
 "nbformat": 4,
 "nbformat_minor": 2
}
